{
  "nbformat": 4,
  "nbformat_minor": 0,
  "metadata": {
    "kernelspec": {
      "display_name": "Python 3",
      "language": "python",
      "name": "python3"
    },
    "language_info": {
      "codemirror_mode": {
        "name": "ipython",
        "version": 2
      },
      "file_extension": ".py",
      "mimetype": "text/x-python",
      "name": "python",
      "nbconvert_exporter": "python",
      "pygments_lexer": "ipython2",
      "version": "2.7.15rc1"
    },
    "colab": {
      "name": "1_baseline.ipynb",
      "provenance": [],
      "collapsed_sections": []
    },
    "accelerator": "GPU"
  },
  "cells": [
    {
      "cell_type": "code",
      "metadata": {
        "id": "zpxAOAZpUgyk"
      },
      "source": [
        "from sklearn.utils import shuffle\n",
        "from keras.datasets import mnist\n",
        "import pandas as pd\n",
        "import numpy as np\n",
        "import matplotlib.pyplot as plt\n",
        "import matplotlib.image as mpimg\n",
        "from sklearn.model_selection import train_test_split\n",
        "from sklearn.metrics import confusion_matrix\n",
        "import itertools\n",
        "from keras.utils.np_utils import to_categorical # convert to one-hot-encoding\n",
        "from keras.models import Sequential, load_model\n",
        "from keras.layers import Dense, Dropout, Flatten, Conv2D, MaxPool2D, Activation, BatchNormalization, MaxPooling2D\n",
        "from tensorflow.keras.optimizers import RMSprop\n",
        "from keras.preprocessing.image import ImageDataGenerator\n",
        "from keras.callbacks import ModelCheckpoint\n",
        "from keras import models\n",
        "from collections import Counter\n",
        "from tensorflow.keras.utils import to_categorical,Sequence"
      ],
      "execution_count": 1,
      "outputs": []
    },
    {
      "cell_type": "code",
      "metadata": {
        "id": "GOtDLdnKUgym",
        "colab": {
          "base_uri": "https://localhost:8080/"
        },
        "outputId": "47c6263f-3006-4767-f0bd-d9afd93247b0"
      },
      "source": [
        "(train_images, train_labels), (test_images, test_labels) = mnist.load_data()\n",
        "train_images = train_images.reshape((60000, 28, 28, 1))\n",
        "train_images = train_images.astype('float32') / 255\n",
        "test_images = test_images.reshape((10000, 28, 28, 1)) \n",
        "test_images = test_images.astype('float32') / 255\n",
        "# train_labels = to_categorical(train_labels) \n",
        "test_labels = to_categorical(test_labels)\n",
        "\n",
        "\n",
        "x, y = shuffle(train_images, train_labels, random_state=15)\n",
        "x_train = x[0:100]\n",
        "y_train = y[0:100].reshape(-1, 1)\n",
        "y_train = to_categorical(y_train) "
      ],
      "execution_count": 2,
      "outputs": [
        {
          "output_type": "stream",
          "name": "stdout",
          "text": [
            "Downloading data from https://storage.googleapis.com/tensorflow/tf-keras-datasets/mnist.npz\n",
            "11493376/11490434 [==============================] - 0s 0us/step\n",
            "11501568/11490434 [==============================] - 0s 0us/step\n"
          ]
        }
      ]
    },
    {
      "cell_type": "code",
      "metadata": {
        "colab": {
          "base_uri": "https://localhost:8080/"
        },
        "id": "nVXVXhu4051b",
        "outputId": "93b65f7b-64c8-4b46-d667-0ec596d02f2d"
      },
      "source": [
        "x_train.shape"
      ],
      "execution_count": 3,
      "outputs": [
        {
          "output_type": "execute_result",
          "data": {
            "text/plain": [
              "(100, 28, 28, 1)"
            ]
          },
          "metadata": {},
          "execution_count": 3
        }
      ]
    },
    {
      "cell_type": "code",
      "metadata": {
        "id": "V2ECiNv3Ugyn",
        "colab": {
          "base_uri": "https://localhost:8080/"
        },
        "outputId": "6033c565-5c7b-46fc-a5f3-412cf24e5fe9"
      },
      "source": [
        "Counter(y[0:100])"
      ],
      "execution_count": 4,
      "outputs": [
        {
          "output_type": "execute_result",
          "data": {
            "text/plain": [
              "Counter({0: 7, 1: 12, 2: 11, 3: 8, 4: 12, 5: 8, 6: 12, 7: 13, 8: 8, 9: 9})"
            ]
          },
          "metadata": {},
          "execution_count": 4
        }
      ]
    },
    {
      "cell_type": "code",
      "source": [
        "EPOCHES = 100"
      ],
      "metadata": {
        "id": "dR3Ncb_PBMGO"
      },
      "execution_count": 8,
      "outputs": []
    },
    {
      "cell_type": "markdown",
      "metadata": {
        "id": "IBBBapmYUgyo"
      },
      "source": [
        "# Without augmentation"
      ]
    },
    {
      "cell_type": "code",
      "metadata": {
        "id": "lQ1QVskJUgyp"
      },
      "source": [
        "model = models.Sequential()\n",
        "model.add(Conv2D(32, (3, 3), input_shape=(28,28,1)))\n",
        "model.add(Activation('relu'))\n",
        "model.add(BatchNormalization(axis=-1))\n",
        "\n",
        "model.add(Conv2D(32, (3, 3)))\n",
        "model.add(Activation('relu'))\n",
        "model.add(MaxPooling2D(pool_size=(2,2)))\n",
        "\n",
        "model.add(BatchNormalization(axis=-1))\n",
        "model.add(Conv2D(64,(3, 3)))\n",
        "model.add(Activation('relu'))\n",
        "model.add(BatchNormalization(axis=-1))\n",
        "model.add(Conv2D(64, (3, 3)))\n",
        "model.add(Activation('relu'))\n",
        "model.add(MaxPooling2D(pool_size=(2,2)))\n",
        "\n",
        "model.add(Flatten())\n",
        "model.add(Dense(256, activation = \"relu\"))\n",
        "model.add(Dropout(0.5))\n",
        "model.add(Dense(10, activation = \"softmax\"))\n",
        "\n",
        "mcp = ModelCheckpoint(\"/content/baseline_best.h5\", monitor='val_accuracy', verbose=0, save_best_only=True, mode='auto')\n",
        "\n",
        "model.compile(loss='categorical_crossentropy', optimizer = \"adam\", metrics = [\"accuracy\"])"
      ],
      "execution_count": 9,
      "outputs": []
    },
    {
      "cell_type": "code",
      "metadata": {
        "id": "f-LbSVbCUgyq",
        "colab": {
          "base_uri": "https://localhost:8080/"
        },
        "outputId": "9eb86743-a036-4943-ea9d-cbcbb41e9b76"
      },
      "source": [
        "model.summary()"
      ],
      "execution_count": 10,
      "outputs": [
        {
          "output_type": "stream",
          "name": "stdout",
          "text": [
            "Model: \"sequential_1\"\n",
            "_________________________________________________________________\n",
            " Layer (type)                Output Shape              Param #   \n",
            "=================================================================\n",
            " conv2d_4 (Conv2D)           (None, 26, 26, 32)        320       \n",
            "                                                                 \n",
            " activation_4 (Activation)   (None, 26, 26, 32)        0         \n",
            "                                                                 \n",
            " batch_normalization_3 (Batc  (None, 26, 26, 32)       128       \n",
            " hNormalization)                                                 \n",
            "                                                                 \n",
            " conv2d_5 (Conv2D)           (None, 24, 24, 32)        9248      \n",
            "                                                                 \n",
            " activation_5 (Activation)   (None, 24, 24, 32)        0         \n",
            "                                                                 \n",
            " max_pooling2d_2 (MaxPooling  (None, 12, 12, 32)       0         \n",
            " 2D)                                                             \n",
            "                                                                 \n",
            " batch_normalization_4 (Batc  (None, 12, 12, 32)       128       \n",
            " hNormalization)                                                 \n",
            "                                                                 \n",
            " conv2d_6 (Conv2D)           (None, 10, 10, 64)        18496     \n",
            "                                                                 \n",
            " activation_6 (Activation)   (None, 10, 10, 64)        0         \n",
            "                                                                 \n",
            " batch_normalization_5 (Batc  (None, 10, 10, 64)       256       \n",
            " hNormalization)                                                 \n",
            "                                                                 \n",
            " conv2d_7 (Conv2D)           (None, 8, 8, 64)          36928     \n",
            "                                                                 \n",
            " activation_7 (Activation)   (None, 8, 8, 64)          0         \n",
            "                                                                 \n",
            " max_pooling2d_3 (MaxPooling  (None, 4, 4, 64)         0         \n",
            " 2D)                                                             \n",
            "                                                                 \n",
            " flatten_1 (Flatten)         (None, 1024)              0         \n",
            "                                                                 \n",
            " dense_2 (Dense)             (None, 256)               262400    \n",
            "                                                                 \n",
            " dropout_1 (Dropout)         (None, 256)               0         \n",
            "                                                                 \n",
            " dense_3 (Dense)             (None, 10)                2570      \n",
            "                                                                 \n",
            "=================================================================\n",
            "Total params: 330,474\n",
            "Trainable params: 330,218\n",
            "Non-trainable params: 256\n",
            "_________________________________________________________________\n"
          ]
        }
      ]
    },
    {
      "cell_type": "code",
      "metadata": {
        "id": "5R9U5rDGUgyr",
        "colab": {
          "base_uri": "https://localhost:8080/"
        },
        "outputId": "bfb5bdf2-6517-491c-9160-35dc517bfab3"
      },
      "source": [
        "history = model.fit(x_train, y_train, validation_data=(test_images, test_labels), epochs=EPOCHES, callbacks=[mcp])"
      ],
      "execution_count": 11,
      "outputs": [
        {
          "output_type": "stream",
          "name": "stdout",
          "text": [
            "Epoch 1/100\n",
            "4/4 [==============================] - 4s 976ms/step - loss: 3.3484 - accuracy: 0.1600 - val_loss: 2.2900 - val_accuracy: 0.1861\n",
            "Epoch 2/100\n",
            "4/4 [==============================] - 3s 890ms/step - loss: 1.8415 - accuracy: 0.3600 - val_loss: 2.2788 - val_accuracy: 0.2886\n",
            "Epoch 3/100\n",
            "4/4 [==============================] - 2s 519ms/step - loss: 1.2281 - accuracy: 0.6200 - val_loss: 2.2667 - val_accuracy: 0.5737\n",
            "Epoch 4/100\n",
            "4/4 [==============================] - 1s 484ms/step - loss: 0.7298 - accuracy: 0.7500 - val_loss: 2.2570 - val_accuracy: 0.4867\n",
            "Epoch 5/100\n",
            "4/4 [==============================] - 3s 864ms/step - loss: 0.7237 - accuracy: 0.7500 - val_loss: 2.2491 - val_accuracy: 0.4710\n",
            "Epoch 6/100\n",
            "4/4 [==============================] - 1s 494ms/step - loss: 0.6347 - accuracy: 0.7700 - val_loss: 2.2432 - val_accuracy: 0.4160\n",
            "Epoch 7/100\n",
            "4/4 [==============================] - 3s 864ms/step - loss: 0.4345 - accuracy: 0.8700 - val_loss: 2.2339 - val_accuracy: 0.3891\n",
            "Epoch 8/100\n",
            "4/4 [==============================] - 1s 490ms/step - loss: 0.3062 - accuracy: 0.9000 - val_loss: 2.2230 - val_accuracy: 0.3858\n",
            "Epoch 9/100\n",
            "4/4 [==============================] - 1s 490ms/step - loss: 0.2557 - accuracy: 0.9000 - val_loss: 2.2125 - val_accuracy: 0.2853\n",
            "Epoch 10/100\n",
            "4/4 [==============================] - 3s 865ms/step - loss: 0.0941 - accuracy: 0.9900 - val_loss: 2.2046 - val_accuracy: 0.1467\n",
            "Epoch 11/100\n",
            "4/4 [==============================] - 3s 864ms/step - loss: 0.1570 - accuracy: 0.9700 - val_loss: 2.1998 - val_accuracy: 0.1037\n",
            "Epoch 12/100\n",
            "4/4 [==============================] - 3s 865ms/step - loss: 0.0777 - accuracy: 0.9800 - val_loss: 2.1998 - val_accuracy: 0.0965\n",
            "Epoch 13/100\n",
            "4/4 [==============================] - 3s 864ms/step - loss: 0.1251 - accuracy: 0.9500 - val_loss: 2.1918 - val_accuracy: 0.0985\n",
            "Epoch 14/100\n",
            "4/4 [==============================] - 1s 489ms/step - loss: 0.1196 - accuracy: 0.9600 - val_loss: 2.1868 - val_accuracy: 0.1034\n",
            "Epoch 15/100\n",
            "4/4 [==============================] - 3s 865ms/step - loss: 0.0553 - accuracy: 0.9900 - val_loss: 2.1850 - val_accuracy: 0.1666\n",
            "Epoch 16/100\n",
            "4/4 [==============================] - 2s 497ms/step - loss: 0.0945 - accuracy: 0.9800 - val_loss: 2.1775 - val_accuracy: 0.2139\n",
            "Epoch 17/100\n",
            "4/4 [==============================] - 1s 481ms/step - loss: 0.0632 - accuracy: 0.9800 - val_loss: 2.1732 - val_accuracy: 0.2159\n",
            "Epoch 18/100\n",
            "4/4 [==============================] - 1s 492ms/step - loss: 0.0527 - accuracy: 0.9900 - val_loss: 2.1663 - val_accuracy: 0.1850\n",
            "Epoch 19/100\n",
            "4/4 [==============================] - 1s 482ms/step - loss: 0.0817 - accuracy: 0.9900 - val_loss: 2.1603 - val_accuracy: 0.0990\n",
            "Epoch 20/100\n",
            "4/4 [==============================] - 3s 864ms/step - loss: 0.0355 - accuracy: 0.9900 - val_loss: 2.1593 - val_accuracy: 0.0959\n",
            "Epoch 21/100\n",
            "4/4 [==============================] - 3s 864ms/step - loss: 0.0574 - accuracy: 0.9900 - val_loss: 2.1609 - val_accuracy: 0.0960\n",
            "Epoch 22/100\n",
            "4/4 [==============================] - 3s 864ms/step - loss: 0.0443 - accuracy: 0.9900 - val_loss: 2.1576 - val_accuracy: 0.1067\n",
            "Epoch 23/100\n",
            "4/4 [==============================] - 3s 865ms/step - loss: 0.0685 - accuracy: 0.9700 - val_loss: 2.1548 - val_accuracy: 0.1622\n",
            "Epoch 24/100\n",
            "4/4 [==============================] - 1s 484ms/step - loss: 0.0619 - accuracy: 0.9700 - val_loss: 2.1527 - val_accuracy: 0.1969\n",
            "Epoch 25/100\n",
            "4/4 [==============================] - 1s 489ms/step - loss: 0.0717 - accuracy: 0.9600 - val_loss: 2.1536 - val_accuracy: 0.2243\n",
            "Epoch 26/100\n",
            "4/4 [==============================] - 1s 483ms/step - loss: 0.0596 - accuracy: 0.9900 - val_loss: 2.1329 - val_accuracy: 0.2407\n",
            "Epoch 27/100\n",
            "4/4 [==============================] - 3s 867ms/step - loss: 0.0646 - accuracy: 0.9800 - val_loss: 2.1109 - val_accuracy: 0.2308\n",
            "Epoch 28/100\n",
            "4/4 [==============================] - 3s 866ms/step - loss: 0.0461 - accuracy: 0.9900 - val_loss: 2.0971 - val_accuracy: 0.1068\n",
            "Epoch 29/100\n",
            "4/4 [==============================] - 1s 489ms/step - loss: 0.0674 - accuracy: 0.9800 - val_loss: 2.0972 - val_accuracy: 0.1101\n",
            "Epoch 30/100\n",
            "4/4 [==============================] - 2s 499ms/step - loss: 0.0418 - accuracy: 0.9900 - val_loss: 2.1007 - val_accuracy: 0.1997\n",
            "Epoch 31/100\n",
            "4/4 [==============================] - 3s 866ms/step - loss: 0.1232 - accuracy: 0.9500 - val_loss: 2.1041 - val_accuracy: 0.2764\n",
            "Epoch 32/100\n",
            "4/4 [==============================] - 3s 865ms/step - loss: 0.0419 - accuracy: 0.9900 - val_loss: 2.0931 - val_accuracy: 0.2933\n",
            "Epoch 33/100\n",
            "4/4 [==============================] - 3s 865ms/step - loss: 0.0387 - accuracy: 1.0000 - val_loss: 2.0753 - val_accuracy: 0.2873\n",
            "Epoch 34/100\n",
            "4/4 [==============================] - 1s 482ms/step - loss: 0.0185 - accuracy: 1.0000 - val_loss: 2.0591 - val_accuracy: 0.2997\n",
            "Epoch 35/100\n",
            "4/4 [==============================] - 1s 489ms/step - loss: 0.0628 - accuracy: 0.9900 - val_loss: 2.0473 - val_accuracy: 0.2872\n",
            "Epoch 36/100\n",
            "4/4 [==============================] - 1s 489ms/step - loss: 0.0487 - accuracy: 0.9800 - val_loss: 2.0479 - val_accuracy: 0.2695\n",
            "Epoch 37/100\n",
            "4/4 [==============================] - 1s 480ms/step - loss: 0.0271 - accuracy: 1.0000 - val_loss: 2.0490 - val_accuracy: 0.2769\n",
            "Epoch 38/100\n",
            "4/4 [==============================] - 3s 864ms/step - loss: 0.0322 - accuracy: 0.9900 - val_loss: 2.0338 - val_accuracy: 0.2873\n",
            "Epoch 39/100\n",
            "4/4 [==============================] - 3s 864ms/step - loss: 0.0265 - accuracy: 0.9900 - val_loss: 2.0250 - val_accuracy: 0.2795\n",
            "Epoch 40/100\n",
            "4/4 [==============================] - 3s 864ms/step - loss: 0.0201 - accuracy: 1.0000 - val_loss: 2.0079 - val_accuracy: 0.2871\n",
            "Epoch 41/100\n",
            "4/4 [==============================] - 3s 865ms/step - loss: 0.0394 - accuracy: 0.9900 - val_loss: 1.9935 - val_accuracy: 0.3047\n",
            "Epoch 42/100\n",
            "4/4 [==============================] - 1s 486ms/step - loss: 0.0244 - accuracy: 0.9900 - val_loss: 1.9683 - val_accuracy: 0.3167\n",
            "Epoch 43/100\n",
            "4/4 [==============================] - 1s 483ms/step - loss: 0.0153 - accuracy: 0.9900 - val_loss: 1.9413 - val_accuracy: 0.3297\n",
            "Epoch 44/100\n",
            "4/4 [==============================] - 1s 480ms/step - loss: 0.0058 - accuracy: 1.0000 - val_loss: 1.9235 - val_accuracy: 0.3430\n",
            "Epoch 45/100\n",
            "4/4 [==============================] - 1s 486ms/step - loss: 0.0155 - accuracy: 0.9900 - val_loss: 1.8968 - val_accuracy: 0.3667\n",
            "Epoch 46/100\n",
            "4/4 [==============================] - 1s 488ms/step - loss: 0.0060 - accuracy: 1.0000 - val_loss: 1.8711 - val_accuracy: 0.3808\n",
            "Epoch 47/100\n",
            "4/4 [==============================] - 3s 865ms/step - loss: 0.0065 - accuracy: 1.0000 - val_loss: 1.8490 - val_accuracy: 0.3914\n",
            "Epoch 48/100\n",
            "4/4 [==============================] - 3s 866ms/step - loss: 0.0131 - accuracy: 0.9900 - val_loss: 1.8352 - val_accuracy: 0.3792\n",
            "Epoch 49/100\n",
            "4/4 [==============================] - 2s 497ms/step - loss: 0.0085 - accuracy: 1.0000 - val_loss: 1.8344 - val_accuracy: 0.3603\n",
            "Epoch 50/100\n",
            "4/4 [==============================] - 1s 491ms/step - loss: 0.0126 - accuracy: 1.0000 - val_loss: 1.8313 - val_accuracy: 0.3445\n",
            "Epoch 51/100\n",
            "4/4 [==============================] - 2s 501ms/step - loss: 0.0072 - accuracy: 1.0000 - val_loss: 1.8117 - val_accuracy: 0.3571\n",
            "Epoch 52/100\n",
            "4/4 [==============================] - 3s 864ms/step - loss: 0.0057 - accuracy: 1.0000 - val_loss: 1.7868 - val_accuracy: 0.3769\n",
            "Epoch 53/100\n",
            "4/4 [==============================] - 3s 865ms/step - loss: 0.0031 - accuracy: 1.0000 - val_loss: 1.7645 - val_accuracy: 0.3946\n",
            "Epoch 54/100\n",
            "4/4 [==============================] - 3s 865ms/step - loss: 0.0032 - accuracy: 1.0000 - val_loss: 1.7416 - val_accuracy: 0.4135\n",
            "Epoch 55/100\n",
            "4/4 [==============================] - 1s 485ms/step - loss: 0.0043 - accuracy: 1.0000 - val_loss: 1.7194 - val_accuracy: 0.4350\n",
            "Epoch 56/100\n",
            "4/4 [==============================] - 1s 488ms/step - loss: 0.0026 - accuracy: 1.0000 - val_loss: 1.7043 - val_accuracy: 0.4471\n",
            "Epoch 57/100\n",
            "4/4 [==============================] - 3s 865ms/step - loss: 0.0088 - accuracy: 1.0000 - val_loss: 1.6870 - val_accuracy: 0.4502\n",
            "Epoch 58/100\n",
            "4/4 [==============================] - 1s 483ms/step - loss: 0.0024 - accuracy: 1.0000 - val_loss: 1.6723 - val_accuracy: 0.4520\n",
            "Epoch 59/100\n",
            "4/4 [==============================] - 1s 483ms/step - loss: 0.0067 - accuracy: 1.0000 - val_loss: 1.6568 - val_accuracy: 0.4647\n",
            "Epoch 60/100\n",
            "4/4 [==============================] - 3s 865ms/step - loss: 7.5683e-04 - accuracy: 1.0000 - val_loss: 1.6488 - val_accuracy: 0.4713\n",
            "Epoch 61/100\n",
            "4/4 [==============================] - 1s 493ms/step - loss: 0.0078 - accuracy: 1.0000 - val_loss: 1.6442 - val_accuracy: 0.4662\n",
            "Epoch 62/100\n",
            "4/4 [==============================] - 3s 865ms/step - loss: 0.0013 - accuracy: 1.0000 - val_loss: 1.6326 - val_accuracy: 0.4674\n",
            "Epoch 63/100\n",
            "4/4 [==============================] - 1s 481ms/step - loss: 0.0015 - accuracy: 1.0000 - val_loss: 1.6104 - val_accuracy: 0.4748\n",
            "Epoch 64/100\n",
            "4/4 [==============================] - 1s 484ms/step - loss: 0.0017 - accuracy: 1.0000 - val_loss: 1.5897 - val_accuracy: 0.4807\n",
            "Epoch 65/100\n",
            "4/4 [==============================] - 3s 863ms/step - loss: 0.0021 - accuracy: 1.0000 - val_loss: 1.5786 - val_accuracy: 0.4806\n",
            "Epoch 66/100\n",
            "4/4 [==============================] - 3s 867ms/step - loss: 0.0012 - accuracy: 1.0000 - val_loss: 1.5637 - val_accuracy: 0.4841\n",
            "Epoch 67/100\n",
            "4/4 [==============================] - 3s 864ms/step - loss: 0.0086 - accuracy: 1.0000 - val_loss: 1.5204 - val_accuracy: 0.5057\n",
            "Epoch 68/100\n",
            "4/4 [==============================] - 3s 864ms/step - loss: 0.0016 - accuracy: 1.0000 - val_loss: 1.4703 - val_accuracy: 0.5395\n",
            "Epoch 69/100\n",
            "4/4 [==============================] - 1s 476ms/step - loss: 0.0034 - accuracy: 1.0000 - val_loss: 1.4393 - val_accuracy: 0.5553\n",
            "Epoch 70/100\n",
            "4/4 [==============================] - 3s 864ms/step - loss: 0.0020 - accuracy: 1.0000 - val_loss: 1.4624 - val_accuracy: 0.5548\n",
            "Epoch 71/100\n",
            "4/4 [==============================] - 3s 865ms/step - loss: 0.0025 - accuracy: 1.0000 - val_loss: 1.4973 - val_accuracy: 0.5650\n",
            "Epoch 72/100\n",
            "4/4 [==============================] - 2s 499ms/step - loss: 0.0211 - accuracy: 1.0000 - val_loss: 1.4891 - val_accuracy: 0.5593\n",
            "Epoch 73/100\n",
            "4/4 [==============================] - 3s 865ms/step - loss: 0.0293 - accuracy: 0.9900 - val_loss: 1.4278 - val_accuracy: 0.5444\n",
            "Epoch 74/100\n",
            "4/4 [==============================] - 1s 489ms/step - loss: 0.0031 - accuracy: 1.0000 - val_loss: 1.3905 - val_accuracy: 0.5398\n",
            "Epoch 75/100\n",
            "4/4 [==============================] - 1s 485ms/step - loss: 0.0057 - accuracy: 1.0000 - val_loss: 1.3662 - val_accuracy: 0.5508\n",
            "Epoch 76/100\n",
            "4/4 [==============================] - 3s 864ms/step - loss: 0.0063 - accuracy: 1.0000 - val_loss: 1.3578 - val_accuracy: 0.5527\n",
            "Epoch 77/100\n",
            "4/4 [==============================] - 3s 865ms/step - loss: 0.0067 - accuracy: 1.0000 - val_loss: 1.3570 - val_accuracy: 0.5389\n",
            "Epoch 78/100\n",
            "4/4 [==============================] - 1s 491ms/step - loss: 0.0031 - accuracy: 1.0000 - val_loss: 1.3486 - val_accuracy: 0.5319\n",
            "Epoch 79/100\n",
            "4/4 [==============================] - 3s 865ms/step - loss: 0.0134 - accuracy: 0.9900 - val_loss: 1.3426 - val_accuracy: 0.5320\n",
            "Epoch 80/100\n",
            "4/4 [==============================] - 3s 867ms/step - loss: 0.0147 - accuracy: 1.0000 - val_loss: 1.3310 - val_accuracy: 0.5407\n",
            "Epoch 81/100\n",
            "4/4 [==============================] - 3s 865ms/step - loss: 0.0019 - accuracy: 1.0000 - val_loss: 1.3076 - val_accuracy: 0.5629\n",
            "Epoch 82/100\n",
            "4/4 [==============================] - 3s 891ms/step - loss: 0.0051 - accuracy: 1.0000 - val_loss: 1.2688 - val_accuracy: 0.5904\n",
            "Epoch 83/100\n",
            "4/4 [==============================] - 3s 890ms/step - loss: 0.0067 - accuracy: 1.0000 - val_loss: 1.2260 - val_accuracy: 0.6167\n",
            "Epoch 84/100\n",
            "4/4 [==============================] - 3s 894ms/step - loss: 0.0204 - accuracy: 0.9900 - val_loss: 1.1631 - val_accuracy: 0.6388\n",
            "Epoch 85/100\n",
            "4/4 [==============================] - 2s 517ms/step - loss: 0.0261 - accuracy: 0.9900 - val_loss: 1.1307 - val_accuracy: 0.6424\n",
            "Epoch 86/100\n",
            "4/4 [==============================] - 1s 495ms/step - loss: 0.0382 - accuracy: 0.9800 - val_loss: 1.1325 - val_accuracy: 0.6276\n",
            "Epoch 87/100\n",
            "4/4 [==============================] - 1s 493ms/step - loss: 0.0034 - accuracy: 1.0000 - val_loss: 1.1557 - val_accuracy: 0.6063\n",
            "Epoch 88/100\n",
            "4/4 [==============================] - 1s 494ms/step - loss: 0.0074 - accuracy: 1.0000 - val_loss: 1.1484 - val_accuracy: 0.6133\n",
            "Epoch 89/100\n",
            "4/4 [==============================] - 1s 491ms/step - loss: 0.0020 - accuracy: 1.0000 - val_loss: 1.1347 - val_accuracy: 0.6296\n",
            "Epoch 90/100\n",
            "4/4 [==============================] - 2s 507ms/step - loss: 0.0024 - accuracy: 1.0000 - val_loss: 1.1387 - val_accuracy: 0.6262\n",
            "Epoch 91/100\n",
            "4/4 [==============================] - 1s 495ms/step - loss: 0.0010 - accuracy: 1.0000 - val_loss: 1.1356 - val_accuracy: 0.6273\n",
            "Epoch 92/100\n",
            "4/4 [==============================] - 1s 492ms/step - loss: 0.0067 - accuracy: 1.0000 - val_loss: 1.1243 - val_accuracy: 0.6298\n",
            "Epoch 93/100\n",
            "4/4 [==============================] - 3s 865ms/step - loss: 0.0011 - accuracy: 1.0000 - val_loss: 1.1053 - val_accuracy: 0.6383\n",
            "Epoch 94/100\n",
            "4/4 [==============================] - 2s 535ms/step - loss: 0.0151 - accuracy: 0.9900 - val_loss: 1.0846 - val_accuracy: 0.6494\n",
            "Epoch 95/100\n",
            "4/4 [==============================] - 3s 892ms/step - loss: 0.0117 - accuracy: 1.0000 - val_loss: 1.0078 - val_accuracy: 0.6852\n",
            "Epoch 96/100\n",
            "4/4 [==============================] - 2s 519ms/step - loss: 0.0039 - accuracy: 1.0000 - val_loss: 0.9550 - val_accuracy: 0.7085\n",
            "Epoch 97/100\n",
            "4/4 [==============================] - 3s 890ms/step - loss: 0.0015 - accuracy: 1.0000 - val_loss: 0.9149 - val_accuracy: 0.7228\n",
            "Epoch 98/100\n",
            "4/4 [==============================] - 3s 890ms/step - loss: 0.0049 - accuracy: 1.0000 - val_loss: 0.8861 - val_accuracy: 0.7334\n",
            "Epoch 99/100\n",
            "4/4 [==============================] - 2s 524ms/step - loss: 0.0044 - accuracy: 1.0000 - val_loss: 0.8381 - val_accuracy: 0.7506\n",
            "Epoch 100/100\n",
            "4/4 [==============================] - 2s 527ms/step - loss: 0.0012 - accuracy: 1.0000 - val_loss: 0.7715 - val_accuracy: 0.7756\n"
          ]
        }
      ]
    },
    {
      "cell_type": "markdown",
      "metadata": {
        "id": "tNpK1kvDUgyr"
      },
      "source": [
        "### best accuracy"
      ]
    },
    {
      "cell_type": "code",
      "metadata": {
        "id": "SOCGahl1Ugys",
        "colab": {
          "base_uri": "https://localhost:8080/"
        },
        "outputId": "4e575397-8df3-4e42-b8f4-17107b59cc0f"
      },
      "source": [
        "#test_model = load_model(\"/content/baseline_best.h5\")\n",
        "test_loss, test_acc = model.evaluate(test_images, test_labels)\n",
        "test_acc"
      ],
      "execution_count": 12,
      "outputs": [
        {
          "output_type": "stream",
          "name": "stdout",
          "text": [
            "313/313 [==============================] - 2s 6ms/step - loss: 0.7715 - accuracy: 0.7756\n"
          ]
        },
        {
          "output_type": "execute_result",
          "data": {
            "text/plain": [
              "0.775600016117096"
            ]
          },
          "metadata": {},
          "execution_count": 12
        }
      ]
    },
    {
      "cell_type": "code",
      "metadata": {
        "id": "76bh5IpDUgyt",
        "colab": {
          "base_uri": "https://localhost:8080/",
          "height": 573
        },
        "outputId": "71c371c9-0612-4ec9-f67e-6b2642088647"
      },
      "source": [
        "plt.plot(history.history['accuracy'])\n",
        "plt.plot(history.history['val_accuracy']) #val_accuracy #val_acc\n",
        "plt.title('model accuracy')\n",
        "plt.ylabel('accuracy')\n",
        "plt.xlabel('epoch')\n",
        "plt.legend(['train', 'test'], loc='upper left')\n",
        "plt.show()\n",
        "plt.plot(history.history['loss'])\n",
        "plt.plot(history.history['val_loss'])\n",
        "plt.title('model loss')\n",
        "plt.ylabel('loss')\n",
        "plt.xlabel('epoch')\n",
        "plt.legend(['train', 'test'], loc='upper left')\n",
        "plt.show()"
      ],
      "execution_count": 13,
      "outputs": [
        {
          "output_type": "display_data",
          "data": {
            "image/png": "[encoded data removed]",
            "text/plain": [
              "<Figure size 432x288 with 1 Axes>"
            ]
          },
          "metadata": {
            "needs_background": "light"
          }
        },
        {
          "output_type": "display_data",
          "data": {
            "image/png": "[encoded data removed]",
            "text/plain": [
              "<Figure size 432x288 with 1 Axes>"
            ]
          },
          "metadata": {
            "needs_background": "light"
          }
        }
      ]
    },
    {
      "cell_type": "code",
      "metadata": {
        "id": "jA9CKn4R_fWN"
      },
      "source": [
        ""
      ],
      "execution_count": 13,
      "outputs": []
    },
    {
      "cell_type": "markdown",
      "metadata": {
        "id": "MNX_m7knzHoU"
      },
      "source": [
        "# With RandAug"
      ]
    },
    {
      "cell_type": "code",
      "source": [
        "!pip install imgaug -U"
      ],
      "metadata": {
        "colab": {
          "base_uri": "https://localhost:8080/"
        },
        "id": "gbAZsJAU1mw8",
        "outputId": "df67a3b7-6394-4d74-c2ac-09200df7af53"
      },
      "execution_count": 14,
      "outputs": [
        {
          "output_type": "stream",
          "name": "stdout",
          "text": [
            "Requirement already satisfied: imgaug in /usr/local/lib/python3.7/dist-packages (0.2.9)\n",
            "Collecting imgaug\n",
            "  Downloading imgaug-0.4.0-py2.py3-none-any.whl (948 kB)\n",
            "\u001b[K     |████████████████████████████████| 948 kB 5.2 MB/s \n",
            "\u001b[?25hRequirement already satisfied: opencv-python in /usr/local/lib/python3.7/dist-packages (from imgaug) (4.1.2.30)\n",
            "Requirement already satisfied: matplotlib in /usr/local/lib/python3.7/dist-packages (from imgaug) (3.2.2)\n",
            "Requirement already satisfied: scikit-image>=0.14.2 in /usr/local/lib/python3.7/dist-packages (from imgaug) (0.18.3)\n",
            "Requirement already satisfied: imageio in /usr/local/lib/python3.7/dist-packages (from imgaug) (2.4.1)\n",
            "Requirement already satisfied: Shapely in /usr/local/lib/python3.7/dist-packages (from imgaug) (1.8.0)\n",
            "Requirement already satisfied: Pillow in /usr/local/lib/python3.7/dist-packages (from imgaug) (7.1.2)\n",
            "Requirement already satisfied: six in /usr/local/lib/python3.7/dist-packages (from imgaug) (1.15.0)\n",
            "Requirement already satisfied: scipy in /usr/local/lib/python3.7/dist-packages (from imgaug) (1.4.1)\n",
            "Requirement already satisfied: numpy>=1.15 in /usr/local/lib/python3.7/dist-packages (from imgaug) (1.19.5)\n",
            "Requirement already satisfied: tifffile>=2019.7.26 in /usr/local/lib/python3.7/dist-packages (from scikit-image>=0.14.2->imgaug) (2021.11.2)\n",
            "Requirement already satisfied: networkx>=2.0 in /usr/local/lib/python3.7/dist-packages (from scikit-image>=0.14.2->imgaug) (2.6.3)\n",
            "Requirement already satisfied: PyWavelets>=1.1.1 in /usr/local/lib/python3.7/dist-packages (from scikit-image>=0.14.2->imgaug) (1.2.0)\n",
            "Requirement already satisfied: kiwisolver>=1.0.1 in /usr/local/lib/python3.7/dist-packages (from matplotlib->imgaug) (1.3.2)\n",
            "Requirement already satisfied: python-dateutil>=2.1 in /usr/local/lib/python3.7/dist-packages (from matplotlib->imgaug) (2.8.2)\n",
            "Requirement already satisfied: cycler>=0.10 in /usr/local/lib/python3.7/dist-packages (from matplotlib->imgaug) (0.11.0)\n",
            "Requirement already satisfied: pyparsing!=2.0.4,!=2.1.2,!=2.1.6,>=2.0.1 in /usr/local/lib/python3.7/dist-packages (from matplotlib->imgaug) (3.0.6)\n",
            "Installing collected packages: imgaug\n",
            "  Attempting uninstall: imgaug\n",
            "    Found existing installation: imgaug 0.2.9\n",
            "    Uninstalling imgaug-0.2.9:\n",
            "      Successfully uninstalled imgaug-0.2.9\n",
            "\u001b[31mERROR: pip's dependency resolver does not currently take into account all the packages that are installed. This behaviour is the source of the following dependency conflicts.\n",
            "albumentations 0.1.12 requires imgaug<0.2.7,>=0.2.5, but you have imgaug 0.4.0 which is incompatible.\u001b[0m\n",
            "Successfully installed imgaug-0.4.0\n"
          ]
        }
      ]
    },
    {
      "cell_type": "code",
      "source": [
        "from imgaug import augmenters as iaa"
      ],
      "metadata": {
        "id": "-uNcEUW31pV7"
      },
      "execution_count": 15,
      "outputs": []
    },
    {
      "cell_type": "code",
      "source": [
        "#L'entraînement de l'ensemble des données n'est pas suffisant en mémoire, alors on define un générateur\n",
        "\n",
        "class generator(Sequence):\n",
        "    #Appliquer RandAug\n",
        "    def aug(self,x):\n",
        "        \n",
        "        seq = iaa.Sequential([\n",
        "            iaa.RandAugment(n=3, m=7),\n",
        "            iaa.Resize({\"height\": 28, \"width\": 28})\n",
        "            ])\n",
        "        x=seq.augment_images(x)\n",
        "        #Normalisation, le modèle de pré-entraînement dans keras.applications consiste à normaliser les données à [-1,1],\n",
        "        # et le modèle de pré-entraînement dans TF hub est de normaliser les données à [0,1]\n",
        "        x=x.astype('float32')/255\n",
        "        return x\n",
        "\n",
        "    def __init__(self, x_set, y_set, batch_size):\n",
        "        self.x_set , self.y_set = x_set, y_set\n",
        "        self.batch_size = batch_size\n",
        "\n",
        "    def __len__(self):\n",
        "        return int(np.ceil(len(self.x_set) / float(self.batch_size)))\n",
        "\n",
        "    def __getitem__(self, idx):\n",
        "        batch_x1 = self.x_set[idx * self.batch_size:(idx + 1) * self.batch_size]\n",
        "        batch_y1 = self.y_set[idx * self.batch_size:(idx + 1) * self.batch_size]\n",
        "        batch_x1=self.aug(batch_x1)\n",
        "\n",
        "        return batch_x1,batch_y1\n",
        "  \n",
        "    #Cette fonction sera automatiquement exécutée à la fin de chaque époque pendant l'entraînement\n",
        "    def on_epoch_end(self):\n",
        "        print(\"fin d'époque\")"
      ],
      "metadata": {
        "id": "yX3niXOMzrgh"
      },
      "execution_count": 16,
      "outputs": []
    },
    {
      "cell_type": "code",
      "source": [
        "(x_train, y_train), (x_test, y_test) = mnist.load_data()\n",
        "x_train = x_train[:100]\n",
        "y_train = y_train[:100]\n",
        "\n",
        "#mnist doit être converti en une image à 3 canaux\n",
        "x_train=np.stack((x_train,)*3, axis=-1)\n",
        "x_test=np.stack((x_test,)*3, axis=-1)\n",
        "\n",
        "#Un encodage \n",
        "y_train=to_categorical(y_train,10)\n",
        "y_test=to_categorical(y_test,10)\n"
      ],
      "metadata": {
        "id": "Dqykou4Azoba"
      },
      "execution_count": 17,
      "outputs": []
    },
    {
      "cell_type": "code",
      "metadata": {
        "id": "qydQZGLzzHoV"
      },
      "source": [
        "model = models.Sequential()\n",
        "model.add(Conv2D(32, (3, 3), input_shape=(28,28,3)))\n",
        "model.add(Activation('relu'))\n",
        "model.add(BatchNormalization(axis=-1))\n",
        "\n",
        "model.add(Conv2D(32, (3, 3)))\n",
        "model.add(Activation('relu'))\n",
        "model.add(MaxPooling2D(pool_size=(2,2)))\n",
        "\n",
        "model.add(BatchNormalization(axis=-1))\n",
        "model.add(Conv2D(64,(3, 3)))\n",
        "model.add(Activation('relu'))\n",
        "model.add(BatchNormalization(axis=-1))\n",
        "model.add(Conv2D(64, (3, 3)))\n",
        "model.add(Activation('relu'))\n",
        "model.add(MaxPooling2D(pool_size=(2,2)))\n",
        "\n",
        "model.add(Flatten())\n",
        "model.add(Dense(256, activation = \"relu\"))\n",
        "model.add(Dropout(0.5))\n",
        "model.add(Dense(10, activation = \"softmax\"))\n",
        "\n",
        "mcp = ModelCheckpoint(\"/content/weights-hub.hdf5\", monitor='val_accuracy', verbose=0, save_best_only=True, mode='auto')\n",
        "\n",
        "model.compile(loss='categorical_crossentropy', optimizer = \"adam\", metrics = [\"accuracy\"])"
      ],
      "execution_count": 18,
      "outputs": []
    },
    {
      "cell_type": "code",
      "metadata": {
        "id": "WtyLUUSlzHoW"
      },
      "source": [
        "batchsize=32\n",
        "g = generator(x_train , y_train , batchsize)"
      ],
      "execution_count": 19,
      "outputs": []
    },
    {
      "cell_type": "code",
      "metadata": {
        "colab": {
          "base_uri": "https://localhost:8080/"
        },
        "id": "k4uHx6JOzHoW",
        "outputId": "16709782-bf12-4e4d-caf0-326b623392bc"
      },
      "source": [
        "history2 =model.fit_generator(g, \n",
        "                    steps_per_epoch=int(x_train.shape[0]/batchsize),\n",
        "                    epochs= EPOCHES, \n",
        "                    # verbose=1, \n",
        "                    callbacks=[mcp], \n",
        "                    validation_data=(x_test, y_test), \n",
        "                    # validation_steps=None, \n",
        "                    # class_weight=None, \n",
        "                    max_queue_size=10, \n",
        "                    workers=2, \n",
        "                    use_multiprocessing=False, \n",
        "                    shuffle=True\n",
        "                    #initial_epoch=0\n",
        "                    )\n"
      ],
      "execution_count": 20,
      "outputs": [
        {
          "output_type": "stream",
          "name": "stderr",
          "text": [
            "/usr/local/lib/python3.7/dist-packages/ipykernel_launcher.py:12: UserWarning: `Model.fit_generator` is deprecated and will be removed in a future version. Please use `Model.fit`, which supports generators.\n",
            "  if sys.path[0] == '':\n"
          ]
        },
        {
          "output_type": "stream",
          "name": "stdout",
          "text": [
            "Epoch 1/100\n",
            "3/3 [==============================] - 3s 930ms/step - loss: 3.4158 - accuracy: 0.0882 - val_loss: 36.0736 - val_accuracy: 0.1163\n",
            "fin d'époque\n",
            "Epoch 2/100\n",
            "3/3 [==============================] - 2s 778ms/step - loss: 3.4558 - accuracy: 0.1324 - val_loss: 55.1083 - val_accuracy: 0.1650\n",
            "fin d'époque\n",
            "Epoch 3/100\n",
            "3/3 [==============================] - 2s 788ms/step - loss: 3.0305 - accuracy: 0.1618 - val_loss: 71.6838 - val_accuracy: 0.1045\n",
            "fin d'époque\n",
            "Epoch 4/100\n",
            "3/3 [==============================] - 3s 1s/step - loss: 2.9659 - accuracy: 0.1912 - val_loss: 66.6045 - val_accuracy: 0.0992\n",
            "fin d'époque\n",
            "Epoch 5/100\n",
            "3/3 [==============================] - 2s 778ms/step - loss: 2.4667 - accuracy: 0.2794 - val_loss: 35.9537 - val_accuracy: 0.1762\n",
            "fin d'époque\n",
            "Epoch 6/100\n",
            "3/3 [==============================] - 2s 781ms/step - loss: 2.6478 - accuracy: 0.2059 - val_loss: 20.6852 - val_accuracy: 0.2533\n",
            "fin d'époque\n",
            "Epoch 7/100\n",
            "3/3 [==============================] - 2s 796ms/step - loss: 2.5082 - accuracy: 0.2353 - val_loss: 21.3151 - val_accuracy: 0.2705\n",
            "fin d'époque\n",
            "Epoch 8/100\n",
            "3/3 [==============================] - 3s 1s/step - loss: 2.2526 - accuracy: 0.3088 - val_loss: 27.1514 - val_accuracy: 0.3011\n",
            "fin d'époque\n",
            "Epoch 9/100\n",
            "3/3 [==============================] - 3s 1s/step - loss: 2.3836 - accuracy: 0.2353 - val_loss: 31.3543 - val_accuracy: 0.3246\n",
            "fin d'époque\n",
            "Epoch 10/100\n",
            "3/3 [==============================] - 2s 767ms/step - loss: 2.6384 - accuracy: 0.2059 - val_loss: 33.4337 - val_accuracy: 0.2864\n",
            "fin d'époque\n",
            "Epoch 11/100\n",
            "3/3 [==============================] - 3s 1s/step - loss: 2.0394 - accuracy: 0.3676 - val_loss: 31.8259 - val_accuracy: 0.2730\n",
            "fin d'époque\n",
            "Epoch 12/100\n",
            "3/3 [==============================] - 3s 1s/step - loss: 2.1662 - accuracy: 0.2794 - val_loss: 24.9905 - val_accuracy: 0.3271\n",
            "fin d'époque\n",
            "Epoch 13/100\n",
            "3/3 [==============================] - 2s 733ms/step - loss: 1.8694 - accuracy: 0.4559 - val_loss: 27.0952 - val_accuracy: 0.2805\n",
            "fin d'époque\n",
            "Epoch 14/100\n",
            "3/3 [==============================] - 2s 747ms/step - loss: 1.8999 - accuracy: 0.2396 - val_loss: 34.1157 - val_accuracy: 0.2383\n",
            "fin d'époque\n",
            "Epoch 15/100\n",
            "3/3 [==============================] - 3s 1s/step - loss: 1.7897 - accuracy: 0.3854 - val_loss: 39.2865 - val_accuracy: 0.2454\n",
            "fin d'époque\n",
            "Epoch 16/100\n",
            "3/3 [==============================] - 2s 763ms/step - loss: 1.8645 - accuracy: 0.3382 - val_loss: 45.4747 - val_accuracy: 0.2218\n",
            "fin d'époque\n",
            "Epoch 17/100\n",
            "3/3 [==============================] - 2s 752ms/step - loss: 1.8945 - accuracy: 0.3676 - val_loss: 46.5424 - val_accuracy: 0.2154\n",
            "fin d'époque\n",
            "Epoch 18/100\n",
            "3/3 [==============================] - 3s 1s/step - loss: 1.5281 - accuracy: 0.5147 - val_loss: 41.4929 - val_accuracy: 0.2273\n",
            "fin d'époque\n",
            "Epoch 19/100\n",
            "3/3 [==============================] - 2s 783ms/step - loss: 1.6658 - accuracy: 0.3824 - val_loss: 43.6813 - val_accuracy: 0.2654\n",
            "fin d'époque\n",
            "Epoch 20/100\n",
            "3/3 [==============================] - 2s 738ms/step - loss: 1.5699 - accuracy: 0.4559 - val_loss: 42.4578 - val_accuracy: 0.3067\n",
            "fin d'époque\n",
            "Epoch 21/100\n",
            "3/3 [==============================] - 2s 751ms/step - loss: 1.7373 - accuracy: 0.4792 - val_loss: 37.4700 - val_accuracy: 0.3043\n",
            "fin d'époque\n",
            "Epoch 22/100\n",
            "3/3 [==============================] - 2s 738ms/step - loss: 1.5998 - accuracy: 0.4706 - val_loss: 37.1191 - val_accuracy: 0.2724\n",
            "fin d'époque\n",
            "Epoch 23/100\n",
            "3/3 [==============================] - 3s 1s/step - loss: 1.6515 - accuracy: 0.3971 - val_loss: 35.6670 - val_accuracy: 0.2777\n",
            "fin d'époque\n",
            "Epoch 24/100\n",
            "3/3 [==============================] - 2s 738ms/step - loss: 1.3377 - accuracy: 0.5625 - val_loss: 36.3931 - val_accuracy: 0.2838\n",
            "fin d'époque\n",
            "Epoch 25/100\n",
            "3/3 [==============================] - 3s 1s/step - loss: 1.4192 - accuracy: 0.5417 - val_loss: 35.5357 - val_accuracy: 0.3041\n",
            "fin d'époque\n",
            "Epoch 26/100\n",
            "3/3 [==============================] - 2s 736ms/step - loss: 1.4465 - accuracy: 0.5208 - val_loss: 40.7454 - val_accuracy: 0.2990\n",
            "fin d'époque\n",
            "Epoch 27/100\n",
            "3/3 [==============================] - 3s 1s/step - loss: 1.4569 - accuracy: 0.5000 - val_loss: 37.0522 - val_accuracy: 0.3212\n",
            "fin d'époque\n",
            "Epoch 28/100\n",
            "3/3 [==============================] - 3s 1s/step - loss: 1.4962 - accuracy: 0.5208 - val_loss: 31.2156 - val_accuracy: 0.3612\n",
            "fin d'époque\n",
            "Epoch 29/100\n",
            "3/3 [==============================] - 2s 823ms/step - loss: 1.4148 - accuracy: 0.5294 - val_loss: 27.2564 - val_accuracy: 0.3857\n",
            "fin d'époque\n",
            "Epoch 30/100\n",
            "3/3 [==============================] - 3s 1s/step - loss: 1.2858 - accuracy: 0.6029 - val_loss: 28.8840 - val_accuracy: 0.3688\n",
            "fin d'époque\n",
            "Epoch 31/100\n",
            "3/3 [==============================] - 3s 1s/step - loss: 1.5450 - accuracy: 0.4559 - val_loss: 29.9252 - val_accuracy: 0.3701\n",
            "fin d'époque\n",
            "Epoch 32/100\n",
            "3/3 [==============================] - 2s 753ms/step - loss: 1.4219 - accuracy: 0.5208 - val_loss: 31.0349 - val_accuracy: 0.3338\n",
            "fin d'époque\n",
            "Epoch 33/100\n",
            "3/3 [==============================] - 2s 736ms/step - loss: 1.2364 - accuracy: 0.6176 - val_loss: 27.2939 - val_accuracy: 0.3423\n",
            "fin d'époque\n",
            "Epoch 34/100\n",
            "3/3 [==============================] - 2s 747ms/step - loss: 1.2624 - accuracy: 0.5208 - val_loss: 24.1265 - val_accuracy: 0.3618\n",
            "fin d'époque\n",
            "Epoch 35/100\n",
            "3/3 [==============================] - 2s 811ms/step - loss: 1.2504 - accuracy: 0.5588 - val_loss: 21.9616 - val_accuracy: 0.3792\n",
            "fin d'époque\n",
            "Epoch 36/100\n",
            "3/3 [==============================] - 3s 1s/step - loss: 1.2572 - accuracy: 0.6029 - val_loss: 28.7510 - val_accuracy: 0.3321\n",
            "fin d'époque\n",
            "Epoch 37/100\n",
            "3/3 [==============================] - 2s 735ms/step - loss: 1.4159 - accuracy: 0.5735 - val_loss: 31.4312 - val_accuracy: 0.3099\n",
            "fin d'époque\n",
            "Epoch 38/100\n",
            "3/3 [==============================] - 3s 1s/step - loss: 1.1503 - accuracy: 0.7059 - val_loss: 37.1584 - val_accuracy: 0.2888\n",
            "fin d'époque\n",
            "Epoch 39/100\n",
            "3/3 [==============================] - 3s 1s/step - loss: 1.3435 - accuracy: 0.5208 - val_loss: 41.8741 - val_accuracy: 0.2757\n",
            "fin d'époque\n",
            "Epoch 40/100\n",
            "3/3 [==============================] - 3s 1s/step - loss: 1.1116 - accuracy: 0.6146 - val_loss: 37.4170 - val_accuracy: 0.3222\n",
            "fin d'époque\n",
            "Epoch 41/100\n",
            "3/3 [==============================] - 3s 1s/step - loss: 1.2086 - accuracy: 0.5729 - val_loss: 34.3962 - val_accuracy: 0.3698\n",
            "fin d'époque\n",
            "Epoch 42/100\n",
            "3/3 [==============================] - 3s 1s/step - loss: 1.1417 - accuracy: 0.6324 - val_loss: 30.7167 - val_accuracy: 0.4068\n",
            "fin d'époque\n",
            "Epoch 43/100\n",
            "3/3 [==============================] - 2s 781ms/step - loss: 1.0366 - accuracy: 0.6979 - val_loss: 29.0301 - val_accuracy: 0.4220\n",
            "fin d'époque\n",
            "Epoch 44/100\n",
            "3/3 [==============================] - 3s 1s/step - loss: 1.1365 - accuracy: 0.6029 - val_loss: 27.4632 - val_accuracy: 0.4589\n",
            "fin d'époque\n",
            "Epoch 45/100\n",
            "3/3 [==============================] - 2s 774ms/step - loss: 0.9821 - accuracy: 0.7059 - val_loss: 26.7447 - val_accuracy: 0.4923\n",
            "fin d'époque\n",
            "Epoch 46/100\n",
            "3/3 [==============================] - 3s 1s/step - loss: 0.9782 - accuracy: 0.6324 - val_loss: 30.2343 - val_accuracy: 0.4769\n",
            "fin d'époque\n",
            "Epoch 47/100\n",
            "3/3 [==============================] - 2s 765ms/step - loss: 0.8447 - accuracy: 0.7059 - val_loss: 30.4773 - val_accuracy: 0.5073\n",
            "fin d'époque\n",
            "Epoch 48/100\n",
            "3/3 [==============================] - 3s 1s/step - loss: 1.3995 - accuracy: 0.5882 - val_loss: 31.0234 - val_accuracy: 0.5478\n",
            "fin d'époque\n",
            "Epoch 49/100\n",
            "3/3 [==============================] - 2s 833ms/step - loss: 1.0926 - accuracy: 0.6324 - val_loss: 28.3341 - val_accuracy: 0.5729\n",
            "fin d'époque\n",
            "Epoch 50/100\n",
            "3/3 [==============================] - 3s 1s/step - loss: 1.2842 - accuracy: 0.6618 - val_loss: 24.6046 - val_accuracy: 0.5949\n",
            "fin d'époque\n",
            "Epoch 51/100\n",
            "3/3 [==============================] - 2s 758ms/step - loss: 1.0107 - accuracy: 0.6458 - val_loss: 30.0056 - val_accuracy: 0.4986\n",
            "fin d'époque\n",
            "Epoch 52/100\n",
            "3/3 [==============================] - 3s 1s/step - loss: 0.9624 - accuracy: 0.7396 - val_loss: 37.1471 - val_accuracy: 0.4093\n",
            "fin d'époque\n",
            "Epoch 53/100\n",
            "3/3 [==============================] - 2s 733ms/step - loss: 1.2564 - accuracy: 0.6176 - val_loss: 31.7993 - val_accuracy: 0.4390\n",
            "fin d'époque\n",
            "Epoch 54/100\n",
            "3/3 [==============================] - 2s 737ms/step - loss: 1.1363 - accuracy: 0.6324 - val_loss: 21.7001 - val_accuracy: 0.5225\n",
            "fin d'époque\n",
            "Epoch 55/100\n",
            "3/3 [==============================] - 2s 804ms/step - loss: 1.1461 - accuracy: 0.5882 - val_loss: 21.3214 - val_accuracy: 0.4884\n",
            "fin d'époque\n",
            "Epoch 56/100\n",
            "3/3 [==============================] - 3s 1s/step - loss: 1.0800 - accuracy: 0.6471 - val_loss: 29.3935 - val_accuracy: 0.4621\n",
            "fin d'époque\n",
            "Epoch 57/100\n",
            "3/3 [==============================] - 3s 1s/step - loss: 0.8804 - accuracy: 0.6765 - val_loss: 35.8238 - val_accuracy: 0.4420\n",
            "fin d'époque\n",
            "Epoch 58/100\n",
            "3/3 [==============================] - 3s 1s/step - loss: 1.1289 - accuracy: 0.6562 - val_loss: 36.7355 - val_accuracy: 0.4265\n",
            "fin d'époque\n",
            "Epoch 59/100\n",
            "3/3 [==============================] - 3s 1s/step - loss: 0.8908 - accuracy: 0.6765 - val_loss: 38.5976 - val_accuracy: 0.4056\n",
            "fin d'époque\n",
            "Epoch 60/100\n",
            "3/3 [==============================] - 3s 1s/step - loss: 1.2184 - accuracy: 0.6029 - val_loss: 39.3605 - val_accuracy: 0.4052\n",
            "fin d'époque\n",
            "Epoch 61/100\n",
            "3/3 [==============================] - 3s 1s/step - loss: 0.9199 - accuracy: 0.6471 - val_loss: 33.2826 - val_accuracy: 0.4580\n",
            "fin d'époque\n",
            "Epoch 62/100\n",
            "3/3 [==============================] - 3s 1s/step - loss: 1.1696 - accuracy: 0.6354 - val_loss: 29.6490 - val_accuracy: 0.4880\n",
            "fin d'époque\n",
            "Epoch 63/100\n",
            "3/3 [==============================] - 3s 1s/step - loss: 0.9697 - accuracy: 0.6771 - val_loss: 24.3243 - val_accuracy: 0.5399\n",
            "fin d'époque\n",
            "Epoch 64/100\n",
            "3/3 [==============================] - 2s 719ms/step - loss: 0.8293 - accuracy: 0.7647 - val_loss: 23.2612 - val_accuracy: 0.5620\n",
            "fin d'époque\n",
            "Epoch 65/100\n",
            "3/3 [==============================] - 3s 1s/step - loss: 0.9086 - accuracy: 0.6912 - val_loss: 24.7978 - val_accuracy: 0.5490\n",
            "fin d'époque\n",
            "Epoch 66/100\n",
            "3/3 [==============================] - 3s 1s/step - loss: 1.0896 - accuracy: 0.5882 - val_loss: 26.0190 - val_accuracy: 0.5398\n",
            "fin d'époque\n",
            "Epoch 67/100\n",
            "3/3 [==============================] - 2s 810ms/step - loss: 0.8744 - accuracy: 0.7206 - val_loss: 25.0260 - val_accuracy: 0.5699\n",
            "fin d'époque\n",
            "Epoch 68/100\n",
            "3/3 [==============================] - 3s 1s/step - loss: 0.9389 - accuracy: 0.7396 - val_loss: 27.4766 - val_accuracy: 0.5823\n",
            "fin d'époque\n",
            "Epoch 69/100\n",
            "3/3 [==============================] - 2s 722ms/step - loss: 0.6707 - accuracy: 0.7500 - val_loss: 29.2221 - val_accuracy: 0.5865\n",
            "fin d'époque\n",
            "Epoch 70/100\n",
            "3/3 [==============================] - 3s 1s/step - loss: 0.7818 - accuracy: 0.7059 - val_loss: 30.9872 - val_accuracy: 0.5479\n",
            "fin d'époque\n",
            "Epoch 71/100\n",
            "3/3 [==============================] - 2s 739ms/step - loss: 0.6683 - accuracy: 0.7206 - val_loss: 36.3807 - val_accuracy: 0.5090\n",
            "fin d'époque\n",
            "Epoch 72/100\n",
            "3/3 [==============================] - 3s 1s/step - loss: 0.9832 - accuracy: 0.7647 - val_loss: 46.8278 - val_accuracy: 0.4462\n",
            "fin d'époque\n",
            "Epoch 73/100\n",
            "3/3 [==============================] - 3s 1s/step - loss: 1.0012 - accuracy: 0.6324 - val_loss: 64.6350 - val_accuracy: 0.3727\n",
            "fin d'époque\n",
            "Epoch 74/100\n",
            "3/3 [==============================] - 3s 1s/step - loss: 0.8212 - accuracy: 0.7396 - val_loss: 60.4185 - val_accuracy: 0.3913\n",
            "fin d'époque\n",
            "Epoch 75/100\n",
            "3/3 [==============================] - 3s 1s/step - loss: 0.7974 - accuracy: 0.7941 - val_loss: 45.0775 - val_accuracy: 0.4644\n",
            "fin d'époque\n",
            "Epoch 76/100\n",
            "3/3 [==============================] - 2s 794ms/step - loss: 0.7610 - accuracy: 0.7500 - val_loss: 39.9729 - val_accuracy: 0.4964\n",
            "fin d'époque\n",
            "Epoch 77/100\n",
            "3/3 [==============================] - 2s 726ms/step - loss: 0.7408 - accuracy: 0.7794 - val_loss: 39.7941 - val_accuracy: 0.5172\n",
            "fin d'époque\n",
            "Epoch 78/100\n",
            "3/3 [==============================] - 2s 737ms/step - loss: 0.7696 - accuracy: 0.7206 - val_loss: 45.6012 - val_accuracy: 0.5177\n",
            "fin d'époque\n",
            "Epoch 79/100\n",
            "3/3 [==============================] - 3s 1s/step - loss: 0.8579 - accuracy: 0.6765 - val_loss: 62.6613 - val_accuracy: 0.4689\n",
            "fin d'époque\n",
            "Epoch 80/100\n",
            "3/3 [==============================] - 3s 1s/step - loss: 1.1442 - accuracy: 0.6618 - val_loss: 56.8805 - val_accuracy: 0.5248\n",
            "fin d'époque\n",
            "Epoch 81/100\n",
            "3/3 [==============================] - 3s 1s/step - loss: 0.7047 - accuracy: 0.8088 - val_loss: 42.2553 - val_accuracy: 0.5759\n",
            "fin d'époque\n",
            "Epoch 82/100\n",
            "3/3 [==============================] - 3s 1s/step - loss: 0.5690 - accuracy: 0.8088 - val_loss: 34.8507 - val_accuracy: 0.6124\n",
            "fin d'époque\n",
            "Epoch 83/100\n",
            "3/3 [==============================] - 2s 795ms/step - loss: 0.7097 - accuracy: 0.8088 - val_loss: 32.7103 - val_accuracy: 0.6404\n",
            "fin d'époque\n",
            "Epoch 84/100\n",
            "3/3 [==============================] - 3s 1s/step - loss: 0.5498 - accuracy: 0.8088 - val_loss: 30.5111 - val_accuracy: 0.6593\n",
            "fin d'époque\n",
            "Epoch 85/100\n",
            "3/3 [==============================] - 3s 1s/step - loss: 0.7827 - accuracy: 0.6912 - val_loss: 29.6461 - val_accuracy: 0.6650\n",
            "fin d'époque\n",
            "Epoch 86/100\n",
            "3/3 [==============================] - 2s 742ms/step - loss: 0.6711 - accuracy: 0.7500 - val_loss: 32.2820 - val_accuracy: 0.6534\n",
            "fin d'époque\n",
            "Epoch 87/100\n",
            "3/3 [==============================] - 2s 737ms/step - loss: 0.7865 - accuracy: 0.7500 - val_loss: 39.1139 - val_accuracy: 0.6347\n",
            "fin d'époque\n",
            "Epoch 88/100\n",
            "3/3 [==============================] - 3s 1s/step - loss: 0.9104 - accuracy: 0.6667 - val_loss: 36.5380 - val_accuracy: 0.6554\n",
            "fin d'époque\n",
            "Epoch 89/100\n",
            "3/3 [==============================] - 3s 1s/step - loss: 0.7063 - accuracy: 0.7917 - val_loss: 30.2304 - val_accuracy: 0.7012\n",
            "fin d'époque\n",
            "Epoch 90/100\n",
            "3/3 [==============================] - 3s 1s/step - loss: 0.6221 - accuracy: 0.8529 - val_loss: 31.7831 - val_accuracy: 0.6857\n",
            "fin d'époque\n",
            "Epoch 91/100\n",
            "3/3 [==============================] - 3s 1s/step - loss: 0.5982 - accuracy: 0.8235 - val_loss: 36.5846 - val_accuracy: 0.6597\n",
            "fin d'époque\n",
            "Epoch 92/100\n",
            "3/3 [==============================] - 2s 744ms/step - loss: 0.4997 - accuracy: 0.8229 - val_loss: 37.7121 - val_accuracy: 0.6708\n",
            "fin d'époque\n",
            "Epoch 93/100\n",
            "3/3 [==============================] - 3s 1s/step - loss: 1.0552 - accuracy: 0.7083 - val_loss: 37.0018 - val_accuracy: 0.6817\n",
            "fin d'époque\n",
            "Epoch 94/100\n",
            "3/3 [==============================] - 3s 1s/step - loss: 0.5381 - accuracy: 0.8021 - val_loss: 38.7679 - val_accuracy: 0.6706\n",
            "fin d'époque\n",
            "Epoch 95/100\n",
            "3/3 [==============================] - 2s 823ms/step - loss: 0.6486 - accuracy: 0.8382 - val_loss: 47.2290 - val_accuracy: 0.6250\n",
            "fin d'époque\n",
            "Epoch 96/100\n",
            "3/3 [==============================] - 2s 734ms/step - loss: 0.6245 - accuracy: 0.7708 - val_loss: 51.0411 - val_accuracy: 0.6175\n",
            "fin d'époque\n",
            "Epoch 97/100\n",
            "3/3 [==============================] - 3s 1s/step - loss: 0.5893 - accuracy: 0.7708 - val_loss: 39.6613 - val_accuracy: 0.6798\n",
            "fin d'époque\n",
            "Epoch 98/100\n",
            "3/3 [==============================] - 2s 756ms/step - loss: 0.5885 - accuracy: 0.7941 - val_loss: 38.3636 - val_accuracy: 0.6940\n",
            "fin d'époque\n",
            "Epoch 99/100\n",
            "3/3 [==============================] - 2s 779ms/step - loss: 0.6201 - accuracy: 0.8235 - val_loss: 34.6891 - val_accuracy: 0.7138\n",
            "fin d'époque\n",
            "Epoch 100/100\n",
            "3/3 [==============================] - 2s 781ms/step - loss: 0.4903 - accuracy: 0.8529 - val_loss: 32.5479 - val_accuracy: 0.7287\n",
            "fin d'époque\n"
          ]
        }
      ]
    },
    {
      "cell_type": "markdown",
      "metadata": {
        "id": "Z0LLY5bTzHoW"
      },
      "source": [
        "## Best accuracy"
      ]
    },
    {
      "cell_type": "code",
      "metadata": {
        "colab": {
          "base_uri": "https://localhost:8080/"
        },
        "outputId": "ad370cd1-3a97-42d8-8664-c4f999812f8b",
        "id": "WMBXtVefzHoW"
      },
      "source": [
        "#test_model = load_model(\"/content/weights-hub.hdf5\")\n",
        "test_loss, test_acc = model.evaluate(x_test, y_test)\n",
        "test_acc"
      ],
      "execution_count": 21,
      "outputs": [
        {
          "output_type": "stream",
          "name": "stdout",
          "text": [
            "313/313 [==============================] - 2s 6ms/step - loss: 32.5479 - accuracy: 0.7287\n"
          ]
        },
        {
          "output_type": "execute_result",
          "data": {
            "text/plain": [
              "0.7286999821662903"
            ]
          },
          "metadata": {},
          "execution_count": 21
        }
      ]
    },
    {
      "cell_type": "code",
      "metadata": {
        "colab": {
          "base_uri": "https://localhost:8080/",
          "height": 573
        },
        "outputId": "4248d922-7a82-44db-c0cb-222add7a599e",
        "id": "sv4fh0EDzHoX"
      },
      "source": [
        "plt.plot(history2.history['accuracy'])\n",
        "plt.plot(history2.history['val_accuracy'])\n",
        "plt.title('model accuracy')\n",
        "plt.ylabel('accuracy')\n",
        "plt.xlabel('epoch')\n",
        "plt.legend(['train', 'test'], loc='upper left')\n",
        "plt.show()\n",
        "plt.plot(history2.history['loss'])\n",
        "plt.plot(history2.history['val_loss'])\n",
        "plt.title('model loss')\n",
        "plt.ylabel('loss')\n",
        "plt.xlabel('epoch')\n",
        "plt.legend(['train', 'test'], loc='upper left')\n",
        "plt.show()"
      ],
      "execution_count": 22,
      "outputs": [
        {
          "output_type": "display_data",
          "data": {
            "image/png": "[encoded data removed]",
            "text/plain": [
              "<Figure size 432x288 with 1 Axes>"
            ]
          },
          "metadata": {
            "needs_background": "light"
          }
        },
        {
          "output_type": "display_data",
          "data": {
            "image/png": "[encoded data removed]",
            "text/plain": [
              "<Figure size 432x288 with 1 Axes>"
            ]
          },
          "metadata": {
            "needs_background": "light"
          }
        }
      ]
    },
    {
      "cell_type": "code",
      "metadata": {
        "id": "pj1Syhw8zHoX"
      },
      "source": [
        ""
      ],
      "execution_count": 22,
      "outputs": []
    },
    {
      "cell_type": "code",
      "metadata": {
        "id": "B6nH7XC1zHoX"
      },
      "source": [
        ""
      ],
      "execution_count": 22,
      "outputs": []
    },
    {
      "cell_type": "markdown",
      "source": [
        "# all data"
      ],
      "metadata": {
        "id": "1tgEHaYQZSPC"
      }
    },
    {
      "cell_type": "code",
      "source": [
        ""
      ],
      "metadata": {
        "id": "f1XUhurgZWcY"
      },
      "execution_count": null,
      "outputs": []
    },
    {
      "cell_type": "code",
      "metadata": {
        "colab": {
          "base_uri": "https://localhost:8080/"
        },
        "outputId": "83393d57-d2ad-4856-b4e4-a7f225afcc4a",
        "id": "KRcNMYFZZWo7"
      },
      "source": [
        "(train_images, train_labels), (test_images, test_labels) = mnist.load_data()\n",
        "train_images = train_images.reshape((60000, 28, 28, 1))\n",
        "train_images = train_images.astype('float32') / 255\n",
        "test_images = test_images.reshape((10000, 28, 28, 1)) \n",
        "test_images = test_images.astype('float32') / 255\n",
        "# train_labels = to_categorical(train_labels) \n",
        "test_labels = to_categorical(test_labels)\n",
        "\n",
        "\n",
        "x, y = shuffle(train_images, train_labels, random_state=15)\n",
        "x_train = x\n",
        "y_train = y.reshape(-1, 1)\n",
        "y_train = to_categorical(y_train) "
      ],
      "execution_count": 2,
      "outputs": [
        {
          "output_type": "stream",
          "name": "stdout",
          "text": [
            "Downloading data from https://storage.googleapis.com/tensorflow/tf-keras-datasets/mnist.npz\n",
            "11493376/11490434 [==============================] - 0s 0us/step\n",
            "11501568/11490434 [==============================] - 0s 0us/step\n"
          ]
        }
      ]
    },
    {
      "cell_type": "code",
      "metadata": {
        "colab": {
          "base_uri": "https://localhost:8080/"
        },
        "outputId": "6609eb06-6720-487c-f302-0fb15f605a10",
        "id": "zqviK3ZbZWo8"
      },
      "source": [
        "x_train.shape"
      ],
      "execution_count": 3,
      "outputs": [
        {
          "output_type": "execute_result",
          "data": {
            "text/plain": [
              "(60000, 28, 28, 1)"
            ]
          },
          "metadata": {},
          "execution_count": 3
        }
      ]
    },
    {
      "cell_type": "code",
      "metadata": {
        "id": "LShVA0oFZihU"
      },
      "source": [
        "model = models.Sequential()\n",
        "model.add(Conv2D(32, (3, 3), input_shape=(28,28,1)))\n",
        "model.add(Activation('relu'))\n",
        "model.add(BatchNormalization(axis=-1))\n",
        "\n",
        "model.add(Conv2D(32, (3, 3)))\n",
        "model.add(Activation('relu'))\n",
        "model.add(MaxPooling2D(pool_size=(2,2)))\n",
        "\n",
        "model.add(BatchNormalization(axis=-1))\n",
        "model.add(Conv2D(64,(3, 3)))\n",
        "model.add(Activation('relu'))\n",
        "model.add(BatchNormalization(axis=-1))\n",
        "model.add(Conv2D(64, (3, 3)))\n",
        "model.add(Activation('relu'))\n",
        "model.add(MaxPooling2D(pool_size=(2,2)))\n",
        "\n",
        "model.add(Flatten())\n",
        "model.add(Dense(256, activation = \"relu\"))\n",
        "model.add(Dropout(0.5))\n",
        "model.add(Dense(10, activation = \"softmax\"))\n",
        "\n",
        "mcp = ModelCheckpoint(\"/content/baseline_allData_best.h5\", monitor='val_accuracy', verbose=0, save_best_only=True, mode='auto')\n",
        "\n",
        "model.compile(loss='categorical_crossentropy', optimizer = \"adam\", metrics = [\"accuracy\"])"
      ],
      "execution_count": 11,
      "outputs": []
    },
    {
      "cell_type": "code",
      "metadata": {
        "colab": {
          "base_uri": "https://localhost:8080/"
        },
        "outputId": "62fce77f-bbf2-4759-8666-3b60ff9b3513",
        "id": "I49CXvNsZihV"
      },
      "source": [
        "model.summary()"
      ],
      "execution_count": 12,
      "outputs": [
        {
          "output_type": "stream",
          "name": "stdout",
          "text": [
            "Model: \"sequential_2\"\n",
            "_________________________________________________________________\n",
            " Layer (type)                Output Shape              Param #   \n",
            "=================================================================\n",
            " conv2d_8 (Conv2D)           (None, 26, 26, 32)        320       \n",
            "                                                                 \n",
            " activation_8 (Activation)   (None, 26, 26, 32)        0         \n",
            "                                                                 \n",
            " batch_normalization_6 (Batc  (None, 26, 26, 32)       128       \n",
            " hNormalization)                                                 \n",
            "                                                                 \n",
            " conv2d_9 (Conv2D)           (None, 24, 24, 32)        9248      \n",
            "                                                                 \n",
            " activation_9 (Activation)   (None, 24, 24, 32)        0         \n",
            "                                                                 \n",
            " max_pooling2d_4 (MaxPooling  (None, 12, 12, 32)       0         \n",
            " 2D)                                                             \n",
            "                                                                 \n",
            " batch_normalization_7 (Batc  (None, 12, 12, 32)       128       \n",
            " hNormalization)                                                 \n",
            "                                                                 \n",
            " conv2d_10 (Conv2D)          (None, 10, 10, 64)        18496     \n",
            "                                                                 \n",
            " activation_10 (Activation)  (None, 10, 10, 64)        0         \n",
            "                                                                 \n",
            " batch_normalization_8 (Batc  (None, 10, 10, 64)       256       \n",
            " hNormalization)                                                 \n",
            "                                                                 \n",
            " conv2d_11 (Conv2D)          (None, 8, 8, 64)          36928     \n",
            "                                                                 \n",
            " activation_11 (Activation)  (None, 8, 8, 64)          0         \n",
            "                                                                 \n",
            " max_pooling2d_5 (MaxPooling  (None, 4, 4, 64)         0         \n",
            " 2D)                                                             \n",
            "                                                                 \n",
            " flatten_2 (Flatten)         (None, 1024)              0         \n",
            "                                                                 \n",
            " dense_4 (Dense)             (None, 256)               262400    \n",
            "                                                                 \n",
            " dropout_2 (Dropout)         (None, 256)               0         \n",
            "                                                                 \n",
            " dense_5 (Dense)             (None, 10)                2570      \n",
            "                                                                 \n",
            "=================================================================\n",
            "Total params: 330,474\n",
            "Trainable params: 330,218\n",
            "Non-trainable params: 256\n",
            "_________________________________________________________________\n"
          ]
        }
      ]
    },
    {
      "cell_type": "code",
      "metadata": {
        "colab": {
          "base_uri": "https://localhost:8080/"
        },
        "outputId": "2bcc37b8-2acd-473c-b5bc-c8d4741ea726",
        "id": "4mq25FKZZihV"
      },
      "source": [
        "history = model.fit(x_train, y_train, validation_data=(test_images, test_labels), epochs=EPOCHES, callbacks=[mcp])"
      ],
      "execution_count": 13,
      "outputs": [
        {
          "output_type": "stream",
          "name": "stdout",
          "text": [
            "Epoch 1/100\n",
            "1875/1875 [==============================] - 26s 14ms/step - loss: 0.1595 - accuracy: 0.9516 - val_loss: 0.0381 - val_accuracy: 0.9886\n",
            "Epoch 2/100\n",
            "1875/1875 [==============================] - 25s 13ms/step - loss: 0.0698 - accuracy: 0.9805 - val_loss: 0.0283 - val_accuracy: 0.9906\n",
            "Epoch 3/100\n",
            "1875/1875 [==============================] - 24s 13ms/step - loss: 0.0535 - accuracy: 0.9851 - val_loss: 0.0315 - val_accuracy: 0.9897\n",
            "Epoch 4/100\n",
            "1875/1875 [==============================] - 25s 13ms/step - loss: 0.0445 - accuracy: 0.9872 - val_loss: 0.0327 - val_accuracy: 0.9905\n",
            "Epoch 5/100\n",
            "1875/1875 [==============================] - 24s 13ms/step - loss: 0.0361 - accuracy: 0.9897 - val_loss: 0.0289 - val_accuracy: 0.9925\n",
            "Epoch 6/100\n",
            "1875/1875 [==============================] - 24s 13ms/step - loss: 0.0327 - accuracy: 0.9911 - val_loss: 0.0342 - val_accuracy: 0.9904\n",
            "Epoch 7/100\n",
            "1875/1875 [==============================] - 25s 13ms/step - loss: 0.0295 - accuracy: 0.9914 - val_loss: 0.0320 - val_accuracy: 0.9904\n",
            "Epoch 8/100\n",
            "1875/1875 [==============================] - 25s 13ms/step - loss: 0.0258 - accuracy: 0.9927 - val_loss: 0.0255 - val_accuracy: 0.9938\n",
            "Epoch 9/100\n",
            "1875/1875 [==============================] - 25s 13ms/step - loss: 0.0232 - accuracy: 0.9936 - val_loss: 0.0244 - val_accuracy: 0.9942\n",
            "Epoch 10/100\n",
            "1875/1875 [==============================] - 25s 13ms/step - loss: 0.0217 - accuracy: 0.9935 - val_loss: 0.0290 - val_accuracy: 0.9929\n",
            "Epoch 11/100\n",
            "1875/1875 [==============================] - 25s 13ms/step - loss: 0.0207 - accuracy: 0.9941 - val_loss: 0.0216 - val_accuracy: 0.9941\n",
            "Epoch 12/100\n",
            "1875/1875 [==============================] - 25s 13ms/step - loss: 0.0182 - accuracy: 0.9951 - val_loss: 0.0374 - val_accuracy: 0.9924\n",
            "Epoch 13/100\n",
            "1875/1875 [==============================] - 25s 13ms/step - loss: 0.0192 - accuracy: 0.9948 - val_loss: 0.0286 - val_accuracy: 0.9932\n",
            "Epoch 14/100\n",
            "1875/1875 [==============================] - 24s 13ms/step - loss: 0.0155 - accuracy: 0.9958 - val_loss: 0.0219 - val_accuracy: 0.9936\n",
            "Epoch 15/100\n",
            "1875/1875 [==============================] - 25s 13ms/step - loss: 0.0177 - accuracy: 0.9954 - val_loss: 0.0298 - val_accuracy: 0.9931\n",
            "Epoch 16/100\n",
            "1875/1875 [==============================] - 24s 13ms/step - loss: 0.0162 - accuracy: 0.9955 - val_loss: 0.0267 - val_accuracy: 0.9943\n",
            "Epoch 17/100\n",
            "1875/1875 [==============================] - 25s 13ms/step - loss: 0.0136 - accuracy: 0.9964 - val_loss: 0.0383 - val_accuracy: 0.9927\n",
            "Epoch 18/100\n",
            "1875/1875 [==============================] - 24s 13ms/step - loss: 0.0129 - accuracy: 0.9965 - val_loss: 0.0366 - val_accuracy: 0.9915\n",
            "Epoch 19/100\n",
            "1875/1875 [==============================] - 25s 13ms/step - loss: 0.0126 - accuracy: 0.9966 - val_loss: 0.0381 - val_accuracy: 0.9936\n",
            "Epoch 20/100\n",
            "1875/1875 [==============================] - 24s 13ms/step - loss: 0.0106 - accuracy: 0.9972 - val_loss: 0.0307 - val_accuracy: 0.9938\n",
            "Epoch 21/100\n",
            "1875/1875 [==============================] - 24s 13ms/step - loss: 0.0098 - accuracy: 0.9971 - val_loss: 0.0356 - val_accuracy: 0.9944\n",
            "Epoch 22/100\n",
            "1875/1875 [==============================] - 25s 13ms/step - loss: 0.0133 - accuracy: 0.9968 - val_loss: 0.0344 - val_accuracy: 0.9938\n",
            "Epoch 23/100\n",
            "1875/1875 [==============================] - 25s 13ms/step - loss: 0.0113 - accuracy: 0.9971 - val_loss: 0.0397 - val_accuracy: 0.9933\n",
            "Epoch 24/100\n",
            "1875/1875 [==============================] - 25s 13ms/step - loss: 0.0126 - accuracy: 0.9967 - val_loss: 0.0415 - val_accuracy: 0.9938\n",
            "Epoch 25/100\n",
            "1875/1875 [==============================] - 25s 13ms/step - loss: 0.0088 - accuracy: 0.9978 - val_loss: 0.0334 - val_accuracy: 0.9940\n",
            "Epoch 26/100\n",
            "1875/1875 [==============================] - 25s 13ms/step - loss: 0.0092 - accuracy: 0.9977 - val_loss: 0.0392 - val_accuracy: 0.9941\n",
            "Epoch 27/100\n",
            "1875/1875 [==============================] - 25s 13ms/step - loss: 0.0099 - accuracy: 0.9974 - val_loss: 0.0352 - val_accuracy: 0.9953\n",
            "Epoch 28/100\n",
            "1875/1875 [==============================] - 25s 13ms/step - loss: 0.0082 - accuracy: 0.9979 - val_loss: 0.0456 - val_accuracy: 0.9929\n",
            "Epoch 29/100\n",
            "1875/1875 [==============================] - 24s 13ms/step - loss: 0.0095 - accuracy: 0.9974 - val_loss: 0.0423 - val_accuracy: 0.9936\n",
            "Epoch 30/100\n",
            "1875/1875 [==============================] - 25s 13ms/step - loss: 0.0079 - accuracy: 0.9979 - val_loss: 0.0466 - val_accuracy: 0.9947\n",
            "Epoch 31/100\n",
            "1875/1875 [==============================] - 25s 13ms/step - loss: 0.0086 - accuracy: 0.9980 - val_loss: 0.0418 - val_accuracy: 0.9953\n",
            "Epoch 32/100\n",
            "1875/1875 [==============================] - 25s 13ms/step - loss: 0.0101 - accuracy: 0.9977 - val_loss: 0.0409 - val_accuracy: 0.9932\n",
            "Epoch 33/100\n",
            "1875/1875 [==============================] - 24s 13ms/step - loss: 0.0097 - accuracy: 0.9976 - val_loss: 0.0532 - val_accuracy: 0.9938\n",
            "Epoch 34/100\n",
            "1875/1875 [==============================] - 24s 13ms/step - loss: 0.0088 - accuracy: 0.9978 - val_loss: 0.0508 - val_accuracy: 0.9942\n",
            "Epoch 35/100\n",
            "1875/1875 [==============================] - 24s 13ms/step - loss: 0.0084 - accuracy: 0.9981 - val_loss: 0.0475 - val_accuracy: 0.9945\n",
            "Epoch 36/100\n",
            "1875/1875 [==============================] - 25s 13ms/step - loss: 0.0077 - accuracy: 0.9981 - val_loss: 0.0451 - val_accuracy: 0.9942\n",
            "Epoch 37/100\n",
            "1875/1875 [==============================] - 25s 13ms/step - loss: 0.0082 - accuracy: 0.9980 - val_loss: 0.0543 - val_accuracy: 0.9940\n",
            "Epoch 38/100\n",
            "1875/1875 [==============================] - 24s 13ms/step - loss: 0.0053 - accuracy: 0.9986 - val_loss: 0.0470 - val_accuracy: 0.9938\n",
            "Epoch 39/100\n",
            "1875/1875 [==============================] - 24s 13ms/step - loss: 0.0076 - accuracy: 0.9983 - val_loss: 0.0433 - val_accuracy: 0.9942\n",
            "Epoch 40/100\n",
            "1875/1875 [==============================] - 25s 13ms/step - loss: 0.0076 - accuracy: 0.9983 - val_loss: 0.0473 - val_accuracy: 0.9939\n",
            "Epoch 41/100\n",
            "1875/1875 [==============================] - 24s 13ms/step - loss: 0.0090 - accuracy: 0.9980 - val_loss: 0.0496 - val_accuracy: 0.9943\n",
            "Epoch 42/100\n",
            "1875/1875 [==============================] - 24s 13ms/step - loss: 0.0076 - accuracy: 0.9983 - val_loss: 0.0405 - val_accuracy: 0.9929\n",
            "Epoch 43/100\n",
            "1875/1875 [==============================] - 25s 13ms/step - loss: 0.0072 - accuracy: 0.9981 - val_loss: 0.0358 - val_accuracy: 0.9955\n",
            "Epoch 44/100\n",
            "1875/1875 [==============================] - 25s 13ms/step - loss: 0.0089 - accuracy: 0.9980 - val_loss: 0.0252 - val_accuracy: 0.9955\n",
            "Epoch 45/100\n",
            "1875/1875 [==============================] - 25s 13ms/step - loss: 0.0083 - accuracy: 0.9983 - val_loss: 0.0306 - val_accuracy: 0.9951\n",
            "Epoch 46/100\n",
            "1875/1875 [==============================] - 25s 13ms/step - loss: 0.0067 - accuracy: 0.9987 - val_loss: 0.0416 - val_accuracy: 0.9950\n",
            "Epoch 47/100\n",
            "1875/1875 [==============================] - 24s 13ms/step - loss: 0.0071 - accuracy: 0.9981 - val_loss: 0.0469 - val_accuracy: 0.9948\n",
            "Epoch 48/100\n",
            "1875/1875 [==============================] - 24s 13ms/step - loss: 0.0062 - accuracy: 0.9986 - val_loss: 0.0492 - val_accuracy: 0.9941\n",
            "Epoch 49/100\n",
            "1875/1875 [==============================] - 25s 13ms/step - loss: 0.0057 - accuracy: 0.9987 - val_loss: 0.0502 - val_accuracy: 0.9923\n",
            "Epoch 50/100\n",
            "1875/1875 [==============================] - 24s 13ms/step - loss: 0.0075 - accuracy: 0.9983 - val_loss: 0.0377 - val_accuracy: 0.9938\n",
            "Epoch 51/100\n",
            "1875/1875 [==============================] - 24s 13ms/step - loss: 0.0048 - accuracy: 0.9987 - val_loss: 0.0491 - val_accuracy: 0.9942\n",
            "Epoch 52/100\n",
            "1875/1875 [==============================] - 25s 13ms/step - loss: 0.0050 - accuracy: 0.9989 - val_loss: 0.0516 - val_accuracy: 0.9945\n",
            "Epoch 53/100\n",
            "1875/1875 [==============================] - 25s 13ms/step - loss: 0.0062 - accuracy: 0.9986 - val_loss: 0.0479 - val_accuracy: 0.9942\n",
            "Epoch 54/100\n",
            "1875/1875 [==============================] - 25s 13ms/step - loss: 0.0079 - accuracy: 0.9983 - val_loss: 0.0412 - val_accuracy: 0.9931\n",
            "Epoch 55/100\n",
            "1875/1875 [==============================] - 25s 13ms/step - loss: 0.0088 - accuracy: 0.9983 - val_loss: 0.0357 - val_accuracy: 0.9947\n",
            "Epoch 56/100\n",
            "1875/1875 [==============================] - 24s 13ms/step - loss: 0.0066 - accuracy: 0.9985 - val_loss: 0.0429 - val_accuracy: 0.9954\n",
            "Epoch 57/100\n",
            "1875/1875 [==============================] - 25s 13ms/step - loss: 0.0051 - accuracy: 0.9988 - val_loss: 0.0511 - val_accuracy: 0.9955\n",
            "Epoch 58/100\n",
            "1875/1875 [==============================] - 24s 13ms/step - loss: 0.0061 - accuracy: 0.9986 - val_loss: 0.0633 - val_accuracy: 0.9942\n",
            "Epoch 59/100\n",
            "1875/1875 [==============================] - 24s 13ms/step - loss: 0.0064 - accuracy: 0.9987 - val_loss: 0.0490 - val_accuracy: 0.9945\n",
            "Epoch 60/100\n",
            "1875/1875 [==============================] - 25s 13ms/step - loss: 0.0061 - accuracy: 0.9988 - val_loss: 0.0677 - val_accuracy: 0.9935\n",
            "Epoch 61/100\n",
            "1875/1875 [==============================] - 25s 14ms/step - loss: 0.0079 - accuracy: 0.9984 - val_loss: 0.0721 - val_accuracy: 0.9937\n",
            "Epoch 62/100\n",
            "1875/1875 [==============================] - 25s 13ms/step - loss: 0.0076 - accuracy: 0.9984 - val_loss: 0.0488 - val_accuracy: 0.9946\n",
            "Epoch 63/100\n",
            "1875/1875 [==============================] - 25s 13ms/step - loss: 0.0061 - accuracy: 0.9986 - val_loss: 0.0685 - val_accuracy: 0.9946\n",
            "Epoch 64/100\n",
            "1875/1875 [==============================] - 25s 13ms/step - loss: 0.0060 - accuracy: 0.9986 - val_loss: 0.0744 - val_accuracy: 0.9946\n",
            "Epoch 65/100\n",
            "1875/1875 [==============================] - 24s 13ms/step - loss: 0.0109 - accuracy: 0.9984 - val_loss: 0.0499 - val_accuracy: 0.9946\n",
            "Epoch 66/100\n",
            "1875/1875 [==============================] - 24s 13ms/step - loss: 0.0055 - accuracy: 0.9988 - val_loss: 0.0594 - val_accuracy: 0.9932\n",
            "Epoch 67/100\n",
            "1875/1875 [==============================] - 24s 13ms/step - loss: 0.0068 - accuracy: 0.9989 - val_loss: 0.0546 - val_accuracy: 0.9954\n",
            "Epoch 68/100\n",
            "1875/1875 [==============================] - 25s 13ms/step - loss: 0.0075 - accuracy: 0.9986 - val_loss: 0.0618 - val_accuracy: 0.9941\n",
            "Epoch 69/100\n",
            "1875/1875 [==============================] - 24s 13ms/step - loss: 0.0056 - accuracy: 0.9988 - val_loss: 0.0689 - val_accuracy: 0.9941\n",
            "Epoch 70/100\n",
            "1875/1875 [==============================] - 24s 13ms/step - loss: 0.0058 - accuracy: 0.9989 - val_loss: 0.0698 - val_accuracy: 0.9942\n",
            "Epoch 71/100\n",
            "1875/1875 [==============================] - 24s 13ms/step - loss: 0.0069 - accuracy: 0.9987 - val_loss: 0.0591 - val_accuracy: 0.9944\n",
            "Epoch 72/100\n",
            "1875/1875 [==============================] - 25s 13ms/step - loss: 0.0066 - accuracy: 0.9989 - val_loss: 0.0575 - val_accuracy: 0.9937\n",
            "Epoch 73/100\n",
            "1875/1875 [==============================] - 25s 14ms/step - loss: 0.0073 - accuracy: 0.9985 - val_loss: 0.0608 - val_accuracy: 0.9945\n",
            "Epoch 74/100\n",
            "1875/1875 [==============================] - 24s 13ms/step - loss: 0.0041 - accuracy: 0.9989 - val_loss: 0.0650 - val_accuracy: 0.9948\n",
            "Epoch 75/100\n",
            "1875/1875 [==============================] - 24s 13ms/step - loss: 0.0063 - accuracy: 0.9988 - val_loss: 0.0563 - val_accuracy: 0.9950\n",
            "Epoch 76/100\n",
            "1875/1875 [==============================] - 24s 13ms/step - loss: 0.0053 - accuracy: 0.9990 - val_loss: 0.0707 - val_accuracy: 0.9942\n",
            "Epoch 77/100\n",
            "1875/1875 [==============================] - 25s 13ms/step - loss: 0.0048 - accuracy: 0.9989 - val_loss: 0.0807 - val_accuracy: 0.9933\n",
            "Epoch 78/100\n",
            "1875/1875 [==============================] - 24s 13ms/step - loss: 0.0063 - accuracy: 0.9988 - val_loss: 0.0536 - val_accuracy: 0.9951\n",
            "Epoch 79/100\n",
            "1875/1875 [==============================] - 24s 13ms/step - loss: 0.0053 - accuracy: 0.9990 - val_loss: 0.0658 - val_accuracy: 0.9946\n",
            "Epoch 80/100\n",
            "1875/1875 [==============================] - 24s 13ms/step - loss: 0.0073 - accuracy: 0.9987 - val_loss: 0.0876 - val_accuracy: 0.9950\n",
            "Epoch 81/100\n",
            "1875/1875 [==============================] - 25s 13ms/step - loss: 0.0070 - accuracy: 0.9989 - val_loss: 0.1470 - val_accuracy: 0.9942\n",
            "Epoch 82/100\n",
            "1875/1875 [==============================] - 24s 13ms/step - loss: 0.0094 - accuracy: 0.9986 - val_loss: 0.0860 - val_accuracy: 0.9950\n",
            "Epoch 83/100\n",
            "1875/1875 [==============================] - 24s 13ms/step - loss: 0.0061 - accuracy: 0.9988 - val_loss: 0.0647 - val_accuracy: 0.9943\n",
            "Epoch 84/100\n",
            "1875/1875 [==============================] - 24s 13ms/step - loss: 0.0072 - accuracy: 0.9989 - val_loss: 0.0898 - val_accuracy: 0.9940\n",
            "Epoch 85/100\n",
            "1875/1875 [==============================] - 25s 13ms/step - loss: 0.0071 - accuracy: 0.9989 - val_loss: 0.0791 - val_accuracy: 0.9941\n",
            "Epoch 86/100\n",
            "1875/1875 [==============================] - 24s 13ms/step - loss: 0.0074 - accuracy: 0.9989 - val_loss: 0.0781 - val_accuracy: 0.9934\n",
            "Epoch 87/100\n",
            "1875/1875 [==============================] - 24s 13ms/step - loss: 0.0043 - accuracy: 0.9989 - val_loss: 0.0670 - val_accuracy: 0.9942\n",
            "Epoch 88/100\n",
            "1875/1875 [==============================] - 25s 13ms/step - loss: 0.0116 - accuracy: 0.9985 - val_loss: 0.0693 - val_accuracy: 0.9948\n",
            "Epoch 89/100\n",
            "1875/1875 [==============================] - 24s 13ms/step - loss: 0.0046 - accuracy: 0.9991 - val_loss: 0.0731 - val_accuracy: 0.9958\n",
            "Epoch 90/100\n",
            "1875/1875 [==============================] - 25s 14ms/step - loss: 0.0068 - accuracy: 0.9990 - val_loss: 0.0451 - val_accuracy: 0.9950\n",
            "Epoch 91/100\n",
            "1875/1875 [==============================] - 26s 14ms/step - loss: 0.0091 - accuracy: 0.9985 - val_loss: 0.0635 - val_accuracy: 0.9944\n",
            "Epoch 92/100\n",
            "1875/1875 [==============================] - 25s 14ms/step - loss: 0.0049 - accuracy: 0.9991 - val_loss: 0.0884 - val_accuracy: 0.9943\n",
            "Epoch 93/100\n",
            "1875/1875 [==============================] - 24s 13ms/step - loss: 0.0057 - accuracy: 0.9988 - val_loss: 0.1122 - val_accuracy: 0.9937\n",
            "Epoch 94/100\n",
            "1875/1875 [==============================] - 25s 13ms/step - loss: 0.0041 - accuracy: 0.9992 - val_loss: 0.0772 - val_accuracy: 0.9955\n",
            "Epoch 95/100\n",
            "1875/1875 [==============================] - 25s 13ms/step - loss: 0.0081 - accuracy: 0.9990 - val_loss: 0.1033 - val_accuracy: 0.9950\n",
            "Epoch 96/100\n",
            "1875/1875 [==============================] - 26s 14ms/step - loss: 0.0069 - accuracy: 0.9988 - val_loss: 0.0920 - val_accuracy: 0.9941\n",
            "Epoch 97/100\n",
            "1875/1875 [==============================] - 24s 13ms/step - loss: 0.0043 - accuracy: 0.9991 - val_loss: 0.1214 - val_accuracy: 0.9941\n",
            "Epoch 98/100\n",
            "1875/1875 [==============================] - 24s 13ms/step - loss: 0.0095 - accuracy: 0.9987 - val_loss: 0.0606 - val_accuracy: 0.9951\n",
            "Epoch 99/100\n",
            "1875/1875 [==============================] - 25s 13ms/step - loss: 0.0045 - accuracy: 0.9991 - val_loss: 0.1033 - val_accuracy: 0.9947\n",
            "Epoch 100/100\n",
            "1875/1875 [==============================] - 25s 13ms/step - loss: 0.0077 - accuracy: 0.9988 - val_loss: 0.0846 - val_accuracy: 0.9945\n"
          ]
        }
      ]
    },
    {
      "cell_type": "markdown",
      "metadata": {
        "id": "zepvYjKIZihV"
      },
      "source": [
        "### best accuracy"
      ]
    },
    {
      "cell_type": "code",
      "metadata": {
        "colab": {
          "base_uri": "https://localhost:8080/"
        },
        "outputId": "d7ea801e-3e3f-496b-897a-a718fe63366f",
        "id": "GcazwqgMZihV"
      },
      "source": [
        "#test_model = load_model(\"/content/baseline_allData_best.h5\")\n",
        "test_loss, test_acc = model.evaluate(test_images, test_labels)\n",
        "test_acc"
      ],
      "execution_count": 14,
      "outputs": [
        {
          "output_type": "stream",
          "name": "stdout",
          "text": [
            "313/313 [==============================] - 2s 6ms/step - loss: 0.0846 - accuracy: 0.9945\n"
          ]
        },
        {
          "output_type": "execute_result",
          "data": {
            "text/plain": [
              "0.9944999814033508"
            ]
          },
          "metadata": {},
          "execution_count": 14
        }
      ]
    },
    {
      "cell_type": "code",
      "metadata": {
        "colab": {
          "base_uri": "https://localhost:8080/",
          "height": 573
        },
        "outputId": "aae2144a-0502-4fa0-d498-80b476650ebb",
        "id": "Ihp7Xyy4ZihV"
      },
      "source": [
        "plt.plot(history.history['accuracy'])\n",
        "plt.plot(history.history['val_accuracy']) #val_accuracy #val_acc\n",
        "plt.title('model accuracy')\n",
        "plt.ylabel('accuracy')\n",
        "plt.xlabel('epoch')\n",
        "plt.legend(['train', 'test'], loc='upper left')\n",
        "plt.show()\n",
        "plt.plot(history.history['loss'])\n",
        "plt.plot(history.history['val_loss'])\n",
        "plt.title('model loss')\n",
        "plt.ylabel('loss')\n",
        "plt.xlabel('epoch')\n",
        "plt.legend(['train', 'test'], loc='upper left')\n",
        "plt.show()"
      ],
      "execution_count": 15,
      "outputs": [
        {
          "output_type": "display_data",
          "data": {
            "image/png": "[encoded data removed]",
            "text/plain": [
              "<Figure size 432x288 with 1 Axes>"
            ]
          },
          "metadata": {
            "needs_background": "light"
          }
        },
        {
          "output_type": "display_data",
          "data": {
            "image/png": "[encoded data removed]",
            "text/plain": [
              "<Figure size 432x288 with 1 Axes>"
            ]
          },
          "metadata": {
            "needs_background": "light"
          }
        }
      ]
    },
    {
      "cell_type": "code",
      "metadata": {
        "id": "rGGEsAXVZihW"
      },
      "source": [
        ""
      ],
      "execution_count": null,
      "outputs": []
    }
  ]
}